{
 "cells": [
  {
   "cell_type": "markdown",
   "metadata": {},
   "source": [
    "# Análise dos Microdados do Enem"
   ]
  },
  {
   "cell_type": "code",
   "execution_count": 3,
   "metadata": {},
   "outputs": [
    {
     "data": {
      "image/png": "[encoded data removed]",
      "text/plain": [
       "<Figure size 432x288 with 1 Axes>"
      ]
     },
     "metadata": {
      "needs_background": "light"
     },
     "output_type": "display_data"
    }
   ],
   "source": [
    "import pandas as pd\n",
    "%matplotlib inline\n",
    "import matplotlib.pyplot as plt\n",
    "\n",
    "indicePrecosComerciais = pd.read_csv(\"dados/business-price-indexes-march-2020-quarter-csv.csv\",sep=\",\", encoding=\"ISO-8859-1\", low_memory=False)\n",
    "indicePrecosComerciais.columns.values\n",
    "colunasSelecionadas = ['Series_reference', 'Period', \n",
    "                       'Data_value', 'STATUS', 'UNITS',\n",
    "                       'Subject', 'Group']\n",
    "indicesPrecosSelecionados = indicePrecosComerciais.filter(items=colunasSelecionadas)\n",
    "colunaDataValue = indicesPrecosSelecionados[\"Data_value\"]\n",
    "colunaDataValue.hist(bins=27)\n",
    "plt.show()"
   ]
  },
  {
   "cell_type": "code",
   "execution_count": 2,
   "metadata": {},
   "outputs": [
    {
     "data": {
      "text/plain": [
       "Producers Price Index - PPI        41470\n",
       "Farm Inputs - FPI                  16202\n",
       "Capital Goods Price Index - CEP     7625\n",
       "Energy Statistics - NRG             1229\n",
       "Name: Subject, dtype: int64"
      ]
     },
     "execution_count": 2,
     "metadata": {},
     "output_type": "execute_result"
    }
   ],
   "source": [
    "colunaSubject = indicesPrecosSelecionados[\"Subject\"]\n",
    "colunaSubject.value_counts()"
   ]
  }
 ],
 "metadata": {
  "kernelspec": {
   "display_name": "Python 3",
   "language": "python",
   "name": "python3"
  },
  "language_info": {
   "codemirror_mode": {
    "name": "ipython",
    "version": 3
   },
   "file_extension": ".py",
   "mimetype": "text/x-python",
   "name": "python",
   "nbconvert_exporter": "python",
   "pygments_lexer": "ipython3",
   "version": "3.5.2"
  }
 },
 "nbformat": 4,
 "nbformat_minor": 4
}
