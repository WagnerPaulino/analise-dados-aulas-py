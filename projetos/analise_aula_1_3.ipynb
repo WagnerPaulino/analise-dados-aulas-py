{
 "cells": [
  {
   "cell_type": "markdown",
   "metadata": {},
   "source": [
    "# Análise dos Microdados do Enem"
   ]
  },
  {
   "cell_type": "code",
   "execution_count": 1,
   "metadata": {},
   "outputs": [
    {
     "data": {
      "image/png": "[encoded data removed]",
      "text/plain": [
       "<Figure size 432x288 with 1 Axes>"
      ]
     },
     "metadata": {
      "needs_background": "light"
     },
     "output_type": "display_data"
    }
   ],
   "source": [
    "import pandas as pd\n",
    "%matplotlib inline\n",
    "import matplotlib.pyplot as plt\n",
    "\n",
    "indicePrecosComerciais = pd.read_csv(\"dados/business-price-indexes-march-2020-quarter-csv.csv\",sep=\",\", encoding=\"ISO-8859-1\", low_memory=False)\n",
    "indicePrecosComerciais.columns.values\n",
    "colunasSelecionadas = ['Series_reference', 'Period', \n",
    "                       'Data_value', 'STATUS', 'UNITS',\n",
    "                       'Subject', 'Group']\n",
    "indicesPrecosSelecionados = indicePrecosComerciais.filter(items=colunasSelecionadas)\n",
    "colunaDataValue = indicesPrecosSelecionados[\"Data_value\"]\n",
    "colunaDataValue.hist(bins=27)\n",
    "plt.show()"
   ]
  },
  {
   "cell_type": "code",
   "execution_count": 2,
   "metadata": {},
   "outputs": [
    {
     "data": {
      "text/plain": [
       "Producers Price Index - PPI        41470\n",
       "Farm Inputs - FPI                  16202\n",
       "Capital Goods Price Index - CEP     7625\n",
       "Energy Statistics - NRG             1229\n",
       "Name: Subject, dtype: int64"
      ]
     },
     "execution_count": 2,
     "metadata": {},
     "output_type": "execute_result"
    }
   ],
   "source": [
    "colunaSubject = indicesPrecosSelecionados[\"Subject\"]\n",
    "colunaSubject.value_counts()"
   ]
  },
  {
   "cell_type": "code",
   "execution_count": 3,
   "metadata": {},
   "outputs": [
    {
     "data": {
      "text/html": [
       "<div>\n",
       "<style scoped>\n",
       "    .dataframe tbody tr th:only-of-type {\n",
       "        vertical-align: middle;\n",
       "    }\n",
       "\n",
       "    .dataframe tbody tr th {\n",
       "        vertical-align: top;\n",
       "    }\n",
       "\n",
       "    .dataframe thead th {\n",
       "        text-align: right;\n",
       "    }\n",
       "</style>\n",
       "<table border=\"1\" class=\"dataframe\">\n",
       "  <thead>\n",
       "    <tr style=\"text-align: right;\">\n",
       "      <th></th>\n",
       "      <th>Data_value</th>\n",
       "    </tr>\n",
       "    <tr>\n",
       "      <th>Subject</th>\n",
       "      <th></th>\n",
       "    </tr>\n",
       "  </thead>\n",
       "  <tbody>\n",
       "    <tr>\n",
       "      <th>Capital Goods Price Index - CEP</th>\n",
       "      <td>7625</td>\n",
       "    </tr>\n",
       "    <tr>\n",
       "      <th>Energy Statistics - NRG</th>\n",
       "      <td>1229</td>\n",
       "    </tr>\n",
       "    <tr>\n",
       "      <th>Farm Inputs - FPI</th>\n",
       "      <td>15802</td>\n",
       "    </tr>\n",
       "    <tr>\n",
       "      <th>Producers Price Index - PPI</th>\n",
       "      <td>41470</td>\n",
       "    </tr>\n",
       "  </tbody>\n",
       "</table>\n",
       "</div>"
      ],
      "text/plain": [
       "                                 Data_value\n",
       "Subject                                    \n",
       "Capital Goods Price Index - CEP        7625\n",
       "Energy Statistics - NRG                1229\n",
       "Farm Inputs - FPI                     15802\n",
       "Producers Price Index - PPI           41470"
      ]
     },
     "execution_count": 3,
     "metadata": {},
     "output_type": "execute_result"
    }
   ],
   "source": [
    "colunasSubjectDataValue = ['Subject', 'Data_value']\n",
    "dataFrameSubjectDataValue = indicesPrecosSelecionados.filter(items=colunasSubjectDataValue)\n",
    "dataFrameSubjectDataValue = dataFrameSubjectDataValue.dropna() #Elimina NaN\n",
    "dataFrameSubjectDataValue.groupby('Subject').count()"
   ]
  },
  {
   "cell_type": "code",
   "execution_count": 4,
   "metadata": {},
   "outputs": [
    {
     "data": {
      "text/html": [
       "<div>\n",
       "<style scoped>\n",
       "    .dataframe tbody tr th:only-of-type {\n",
       "        vertical-align: middle;\n",
       "    }\n",
       "\n",
       "    .dataframe tbody tr th {\n",
       "        vertical-align: top;\n",
       "    }\n",
       "\n",
       "    .dataframe thead th {\n",
       "        text-align: right;\n",
       "    }\n",
       "</style>\n",
       "<table border=\"1\" class=\"dataframe\">\n",
       "  <thead>\n",
       "    <tr style=\"text-align: right;\">\n",
       "      <th></th>\n",
       "      <th>Data_value</th>\n",
       "    </tr>\n",
       "    <tr>\n",
       "      <th>Subject</th>\n",
       "      <th></th>\n",
       "    </tr>\n",
       "  </thead>\n",
       "  <tbody>\n",
       "    <tr>\n",
       "      <th>Capital Goods Price Index - CEP</th>\n",
       "      <td>3153.000000</td>\n",
       "    </tr>\n",
       "    <tr>\n",
       "      <th>Energy Statistics - NRG</th>\n",
       "      <td>3512.000000</td>\n",
       "    </tr>\n",
       "    <tr>\n",
       "      <th>Farm Inputs - FPI</th>\n",
       "      <td>1642.313546</td>\n",
       "    </tr>\n",
       "    <tr>\n",
       "      <th>Producers Price Index - PPI</th>\n",
       "      <td>2270.000000</td>\n",
       "    </tr>\n",
       "  </tbody>\n",
       "</table>\n",
       "</div>"
      ],
      "text/plain": [
       "                                  Data_value\n",
       "Subject                                     \n",
       "Capital Goods Price Index - CEP  3153.000000\n",
       "Energy Statistics - NRG          3512.000000\n",
       "Farm Inputs - FPI                1642.313546\n",
       "Producers Price Index - PPI      2270.000000"
      ]
     },
     "execution_count": 4,
     "metadata": {},
     "output_type": "execute_result"
    }
   ],
   "source": [
    "dataFrameSubjectDataValue.groupby('Subject').max()"
   ]
  },
  {
   "cell_type": "code",
   "execution_count": 5,
   "metadata": {},
   "outputs": [
    {
     "data": {
      "text/html": [
       "<div>\n",
       "<style scoped>\n",
       "    .dataframe tbody tr th:only-of-type {\n",
       "        vertical-align: middle;\n",
       "    }\n",
       "\n",
       "    .dataframe tbody tr th {\n",
       "        vertical-align: top;\n",
       "    }\n",
       "\n",
       "    .dataframe thead th {\n",
       "        text-align: right;\n",
       "    }\n",
       "</style>\n",
       "<table border=\"1\" class=\"dataframe\">\n",
       "  <thead>\n",
       "    <tr style=\"text-align: right;\">\n",
       "      <th></th>\n",
       "      <th>Data_value</th>\n",
       "    </tr>\n",
       "    <tr>\n",
       "      <th>Subject</th>\n",
       "      <th></th>\n",
       "    </tr>\n",
       "  </thead>\n",
       "  <tbody>\n",
       "    <tr>\n",
       "      <th>Capital Goods Price Index - CEP</th>\n",
       "      <td>-1.200000</td>\n",
       "    </tr>\n",
       "    <tr>\n",
       "      <th>Energy Statistics - NRG</th>\n",
       "      <td>587.000000</td>\n",
       "    </tr>\n",
       "    <tr>\n",
       "      <th>Farm Inputs - FPI</th>\n",
       "      <td>207.913106</td>\n",
       "    </tr>\n",
       "    <tr>\n",
       "      <th>Producers Price Index - PPI</th>\n",
       "      <td>-5.800000</td>\n",
       "    </tr>\n",
       "  </tbody>\n",
       "</table>\n",
       "</div>"
      ],
      "text/plain": [
       "                                 Data_value\n",
       "Subject                                    \n",
       "Capital Goods Price Index - CEP   -1.200000\n",
       "Energy Statistics - NRG          587.000000\n",
       "Farm Inputs - FPI                207.913106\n",
       "Producers Price Index - PPI       -5.800000"
      ]
     },
     "execution_count": 5,
     "metadata": {},
     "output_type": "execute_result"
    }
   ],
   "source": [
    "dataFrameSubjectDataValue.groupby('Subject').min()"
   ]
  },
  {
   "cell_type": "code",
   "execution_count": 6,
   "metadata": {},
   "outputs": [
    {
     "data": {
      "text/html": [
       "<div>\n",
       "<style scoped>\n",
       "    .dataframe tbody tr th:only-of-type {\n",
       "        vertical-align: middle;\n",
       "    }\n",
       "\n",
       "    .dataframe tbody tr th {\n",
       "        vertical-align: top;\n",
       "    }\n",
       "\n",
       "    .dataframe thead th {\n",
       "        text-align: right;\n",
       "    }\n",
       "</style>\n",
       "<table border=\"1\" class=\"dataframe\">\n",
       "  <thead>\n",
       "    <tr style=\"text-align: right;\">\n",
       "      <th></th>\n",
       "      <th>Data_value</th>\n",
       "    </tr>\n",
       "    <tr>\n",
       "      <th>Subject</th>\n",
       "      <th></th>\n",
       "    </tr>\n",
       "  </thead>\n",
       "  <tbody>\n",
       "    <tr>\n",
       "      <th>Capital Goods Price Index - CEP</th>\n",
       "      <td>0.100000</td>\n",
       "    </tr>\n",
       "    <tr>\n",
       "      <th>Energy Statistics - NRG</th>\n",
       "      <td>587.000000</td>\n",
       "    </tr>\n",
       "    <tr>\n",
       "      <th>Farm Inputs - FPI</th>\n",
       "      <td>207.913106</td>\n",
       "    </tr>\n",
       "    <tr>\n",
       "      <th>Producers Price Index - PPI</th>\n",
       "      <td>0.100000</td>\n",
       "    </tr>\n",
       "  </tbody>\n",
       "</table>\n",
       "</div>"
      ],
      "text/plain": [
       "                                 Data_value\n",
       "Subject                                    \n",
       "Capital Goods Price Index - CEP    0.100000\n",
       "Energy Statistics - NRG          587.000000\n",
       "Farm Inputs - FPI                207.913106\n",
       "Producers Price Index - PPI        0.100000"
      ]
     },
     "execution_count": 6,
     "metadata": {},
     "output_type": "execute_result"
    }
   ],
   "source": [
    " dataFrameSubjectDataValue[dataFrameSubjectDataValue.Data_value > 0].groupby('Subject').min()"
   ]
  },
  {
   "cell_type": "code",
   "execution_count": 7,
   "metadata": {},
   "outputs": [
    {
     "data": {
      "image/png": "[encoded data removed]",
      "text/plain": [
       "<Figure size 432x288 with 1 Axes>"
      ]
     },
     "metadata": {
      "needs_background": "light"
     },
     "output_type": "display_data"
    },
    {
     "data": {
      "image/png": "[encoded data removed]",
      "text/plain": [
       "<Figure size 432x288 with 1 Axes>"
      ]
     },
     "metadata": {
      "needs_background": "light"
     },
     "output_type": "display_data"
    },
    {
     "data": {
      "image/png": "[encoded data removed]",
      "text/plain": [
       "<Figure size 432x288 with 1 Axes>"
      ]
     },
     "metadata": {
      "needs_background": "light"
     },
     "output_type": "display_data"
    },
    {
     "data": {
      "image/png": "[encoded data removed]",
      "text/plain": [
       "<Figure size 432x288 with 1 Axes>"
      ]
     },
     "metadata": {
      "needs_background": "light"
     },
     "output_type": "display_data"
    }
   ],
   "source": [
    "dataFrameSubjectDataValue[dataFrameSubjectDataValue.Data_value > 0].groupby('Subject').hist()\n",
    "plt.show()"
   ]
  },
  {
   "cell_type": "code",
   "execution_count": 8,
   "metadata": {},
   "outputs": [
    {
     "data": {
      "text/html": [
       "<div>\n",
       "<style scoped>\n",
       "    .dataframe tbody tr th:only-of-type {\n",
       "        vertical-align: middle;\n",
       "    }\n",
       "\n",
       "    .dataframe tbody tr th {\n",
       "        vertical-align: top;\n",
       "    }\n",
       "\n",
       "    .dataframe thead tr th {\n",
       "        text-align: left;\n",
       "    }\n",
       "\n",
       "    .dataframe thead tr:last-of-type th {\n",
       "        text-align: right;\n",
       "    }\n",
       "</style>\n",
       "<table border=\"1\" class=\"dataframe\">\n",
       "  <thead>\n",
       "    <tr>\n",
       "      <th></th>\n",
       "      <th colspan=\"8\" halign=\"left\">Data_value</th>\n",
       "    </tr>\n",
       "    <tr>\n",
       "      <th></th>\n",
       "      <th>count</th>\n",
       "      <th>mean</th>\n",
       "      <th>std</th>\n",
       "      <th>min</th>\n",
       "      <th>25%</th>\n",
       "      <th>50%</th>\n",
       "      <th>75%</th>\n",
       "      <th>max</th>\n",
       "    </tr>\n",
       "    <tr>\n",
       "      <th>Subject</th>\n",
       "      <th></th>\n",
       "      <th></th>\n",
       "      <th></th>\n",
       "      <th></th>\n",
       "      <th></th>\n",
       "      <th></th>\n",
       "      <th></th>\n",
       "      <th></th>\n",
       "    </tr>\n",
       "  </thead>\n",
       "  <tbody>\n",
       "    <tr>\n",
       "      <th>Capital Goods Price Index - CEP</th>\n",
       "      <td>7590.0</td>\n",
       "      <td>1100.475337</td>\n",
       "      <td>385.614226</td>\n",
       "      <td>0.100000</td>\n",
       "      <td>962.823367</td>\n",
       "      <td>1067.454874</td>\n",
       "      <td>1270.0</td>\n",
       "      <td>3153.000000</td>\n",
       "    </tr>\n",
       "    <tr>\n",
       "      <th>Energy Statistics - NRG</th>\n",
       "      <td>1229.0</td>\n",
       "      <td>1550.741253</td>\n",
       "      <td>603.775847</td>\n",
       "      <td>587.000000</td>\n",
       "      <td>1005.000000</td>\n",
       "      <td>1386.000000</td>\n",
       "      <td>2042.0</td>\n",
       "      <td>3512.000000</td>\n",
       "    </tr>\n",
       "    <tr>\n",
       "      <th>Farm Inputs - FPI</th>\n",
       "      <td>15802.0</td>\n",
       "      <td>795.056826</td>\n",
       "      <td>249.364521</td>\n",
       "      <td>207.913106</td>\n",
       "      <td>594.965675</td>\n",
       "      <td>798.202920</td>\n",
       "      <td>1004.0</td>\n",
       "      <td>1642.313546</td>\n",
       "    </tr>\n",
       "    <tr>\n",
       "      <th>Producers Price Index - PPI</th>\n",
       "      <td>41364.0</td>\n",
       "      <td>933.656577</td>\n",
       "      <td>222.874989</td>\n",
       "      <td>0.100000</td>\n",
       "      <td>791.211579</td>\n",
       "      <td>983.000000</td>\n",
       "      <td>1069.0</td>\n",
       "      <td>2270.000000</td>\n",
       "    </tr>\n",
       "  </tbody>\n",
       "</table>\n",
       "</div>"
      ],
      "text/plain": [
       "                                Data_value                           \\\n",
       "                                     count         mean         std   \n",
       "Subject                                                               \n",
       "Capital Goods Price Index - CEP     7590.0  1100.475337  385.614226   \n",
       "Energy Statistics - NRG             1229.0  1550.741253  603.775847   \n",
       "Farm Inputs - FPI                  15802.0   795.056826  249.364521   \n",
       "Producers Price Index - PPI        41364.0   933.656577  222.874989   \n",
       "\n",
       "                                                                               \\\n",
       "                                        min          25%          50%     75%   \n",
       "Subject                                                                         \n",
       "Capital Goods Price Index - CEP    0.100000   962.823367  1067.454874  1270.0   \n",
       "Energy Statistics - NRG          587.000000  1005.000000  1386.000000  2042.0   \n",
       "Farm Inputs - FPI                207.913106   594.965675   798.202920  1004.0   \n",
       "Producers Price Index - PPI        0.100000   791.211579   983.000000  1069.0   \n",
       "\n",
       "                                              \n",
       "                                         max  \n",
       "Subject                                       \n",
       "Capital Goods Price Index - CEP  3153.000000  \n",
       "Energy Statistics - NRG          3512.000000  \n",
       "Farm Inputs - FPI                1642.313546  \n",
       "Producers Price Index - PPI      2270.000000  "
      ]
     },
     "execution_count": 8,
     "metadata": {},
     "output_type": "execute_result"
    }
   ],
   "source": [
    "dataFrameSubjectDataValue[dataFrameSubjectDataValue.Data_value > 0].groupby('Subject').describe()"
   ]
  }
 ],
 "metadata": {
  "kernelspec": {
   "display_name": "Python 3",
   "language": "python",
   "name": "python3"
  },
  "language_info": {
   "codemirror_mode": {
    "name": "ipython",
    "version": 3
   },
   "file_extension": ".py",
   "mimetype": "text/x-python",
   "name": "python",
   "nbconvert_exporter": "python",
   "pygments_lexer": "ipython3",
   "version": "3.5.2"
  }
 },
 "nbformat": 4,
 "nbformat_minor": 4
}
